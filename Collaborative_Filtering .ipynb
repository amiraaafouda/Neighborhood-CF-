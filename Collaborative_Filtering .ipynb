{
  "cells": [
    {
      "cell_type": "markdown",
      "metadata": {
        "id": "QMnJ9-93s4VF"
      },
      "source": [
        "## Recommendations with MovieTweetings: Collaborative Filtering\n",
        "\n",
        "One of the most popular methods for making recommendations is **collaborative filtering**.  In collaborative filtering, you are using the collaboration of user-item recommendations to assist in making new recommendations.  \n",
        "\n",
        "There are two main methods of performing collaborative filtering:\n",
        "\n",
        "1. **Neighborhood-Based Collaborative Filtering**, which is based on the idea that we can either correlate items that are similar to provide recommendations or we can correlate users to one another to provide recommendations.\n",
        "\n",
        "2. **Model Based Collaborative Filtering**, which is based on the idea that we can use machine learning and other mathematical models to understand the relationships that exist amongst items and users to predict ratings and provide ratings.\n",
        "\n",
        "\n",
        "In this notebook, you will be working on performing **neighborhood-based collaborative filtering**.  There are two main methods for performing collaborative filtering:\n",
        "\n",
        "1. **User-based collaborative filtering:** In this type of recommendation, users related to the user you would like to make recommendations for are used to create a recommendation.\n",
        "\n",
        "2. **Item-based collaborative filtering:** In this type of recommendation, first you need to find the items that are most related to each other item (based on similar ratings).  Then you can use the ratings of an individual on those similar items to understand if a user will like the new item.\n",
        "\n",
        "In this notebook you will be implementing **user-based collaborative filtering**.  However, it is easy to extend this approach to make recommendations using **item-based collaborative filtering**.  First, let's read in our data and necessary libraries.\n",
        "\n",
        "**NOTE**: Because of the size of the datasets, some of your code cells here will take a while to execute, so be patient!"
      ]
    },
    {
      "cell_type": "code",
      "source": [
        "from google.colab import drive\n",
        "drive.mount('/content/drive')"
      ],
      "metadata": {
        "colab": {
          "base_uri": "https://localhost:8080/"
        },
        "id": "Y5XFxuTlVS_N",
        "outputId": "bd4ce941-99b5-4365-fddc-85c359fe8bb9"
      },
      "execution_count": null,
      "outputs": [
        {
          "output_type": "stream",
          "name": "stdout",
          "text": [
            "Drive already mounted at /content/drive; to attempt to forcibly remount, call drive.mount(\"/content/drive\", force_remount=True).\n"
          ]
        }
      ]
    },
    {
      "cell_type": "code",
      "execution_count": null,
      "metadata": {
        "id": "Qb2Yol0qs4VL",
        "colab": {
          "base_uri": "https://localhost:8080/"
        },
        "outputId": "4fcf17aa-1d46-487b-dfea-d0f3dbea1dae"
      },
      "outputs": [
        {
          "output_type": "stream",
          "name": "stdout",
          "text": [
            "   user_id  movie_id  rating   timestamp                 date  month_1  \\\n",
            "0        1     68646      10  1381620027  2013-10-12 23:20:27        0   \n",
            "1        1    113277      10  1379466669  2013-09-18 01:11:09        0   \n",
            "2        2    422720       8  1412178746  2014-10-01 15:52:26        0   \n",
            "3        2    454876       8  1394818630  2014-03-14 17:37:10        0   \n",
            "4        2    790636       7  1389963947  2014-01-17 13:05:47        0   \n",
            "\n",
            "   month_2  month_3  month_4  month_5  ...  month_9  month_10  month_11  \\\n",
            "0        0        0        0        0  ...        0         1         0   \n",
            "1        0        0        0        0  ...        0         0         0   \n",
            "2        0        0        0        0  ...        0         1         0   \n",
            "3        0        0        0        0  ...        0         0         0   \n",
            "4        0        0        0        0  ...        0         0         0   \n",
            "\n",
            "   month_12  year_2013  year_2014  year_2015  year_2016  year_2017  year_2018  \n",
            "0         0          1          0          0          0          0          0  \n",
            "1         0          1          0          0          0          0          0  \n",
            "2         0          0          1          0          0          0          0  \n",
            "3         0          0          1          0          0          0          0  \n",
            "4         0          0          1          0          0          0          0  \n",
            "\n",
            "[5 rows x 23 columns]\n"
          ]
        }
      ],
      "source": [
        "import numpy as np\n",
        "import pandas as pd\n",
        "import matplotlib.pyplot as plt\n",
        "import csv\n",
        "import ast\n",
        "import tests as t\n",
        "from scipy.sparse import csr_matrix\n",
        "from IPython.display import HTML\n",
        "\n",
        "%matplotlib inline\n",
        "\n",
        "# Read in the datasets\n",
        "movies = pd.read_csv('/content/drive/My Drive/Recommendation System/movies_clean.csv')\n",
        "\n",
        "reviews = pd.read_csv('/content/drive/My Drive/Recommendation System/reviews_clean.csv')\n",
        "\n",
        "\n",
        "del movies['Unnamed: 0']\n",
        "del reviews['Unnamed: 0']\n",
        "\n",
        "print(reviews.head())"
      ]
    },
    {
      "cell_type": "markdown",
      "metadata": {
        "id": "W3Obyl_ms4VN"
      },
      "source": [
        "### Measures of Similarity\n",
        "\n",
        "When using **neighborhood** based collaborative filtering, it is important to understand how to measure the similarity of users or items to one another.  \n",
        "\n",
        "There are a number of ways in which we might measure the similarity between two vectors (which might be two users or two items).  In this notebook, we will look specifically at two measures used to compare vectors:\n",
        "\n",
        "* **Pearson's correlation coefficient**\n",
        "\n",
        "Pearson's correlation coefficient is a measure of the strength and direction of a linear relationship. The value for this coefficient is a value between -1 and 1 where -1 indicates a strong, negative linear relationship and 1 indicates a strong, positive linear relationship. \n",
        "\n",
        "If we have two vectors x and y, we can define the correlation between the vectors as:\n",
        "\n",
        "\n",
        "$$CORR(x, y) = \\frac{\\text{COV}(x, y)}{\\text{STDEV}(x)\\text{ }\\text{STDEV}(y)}$$\n",
        "\n",
        "where \n",
        "\n",
        "$$\\text{STDEV}(x) = \\sqrt{\\frac{1}{n-1}\\sum_{i=1}^{n}(x_i - \\bar{x})^2}$$\n",
        "\n",
        "and \n",
        "\n",
        "$$\\text{COV}(x, y) = \\frac{1}{n-1}\\sum_{i=1}^{n}(x_i - \\bar{x})(y_i - \\bar{y})$$\n",
        "\n",
        "where n is the length of the vector, which must be the same for both x and y and $\\bar{x}$ is the mean of the observations in the vector.  \n",
        "\n",
        "We can use the correlation coefficient to indicate how alike two vectors are to one another, where the closer to 1 the coefficient, the more alike the vectors are to one another.  There are some potential downsides to using this metric as a measure of similarity.  You will see some of these throughout this workbook.\n",
        "\n",
        "\n",
        "* **Euclidean distance**\n",
        "\n",
        "Euclidean distance is a measure of the straightline distance from one vector to another.  Because this is a measure of distance, larger values are an indication that two vectors are different from one another (which is different than Pearson's correlation coefficient).\n",
        "\n",
        "Specifically, the euclidean distance between two vectors x and y is measured as:\n",
        "\n",
        "$$ \\text{EUCL}(x, y) = \\sqrt{\\sum_{i=1}^{n}(x_i - y_i)^2}$$\n",
        "\n",
        "Different from the correlation coefficient, no scaling is performed in the denominator.  Therefore, you need to make sure all of your data are on the same scale when using this metric.\n",
        "\n",
        "**Note:** Because measuring similarity is often based on looking at the distance between vectors, it is important in these cases to scale your data or to have all data be in the same scale.  In this case, we will not need to scale data because they are all on a 10 point scale, but it is always something to keep in mind!\n",
        "\n",
        "------------\n",
        "\n",
        "### User-Item Matrix\n",
        "\n",
        "In order to calculate the similarities, it is common to put values in a matrix.  In this matrix, users are identified by each row, and items are represented by columns.  \n",
        "\n",
        "\n",
        "![alt text](images/userxitem.png \"User Item Matrix\")\n"
      ]
    },
    {
      "cell_type": "markdown",
      "metadata": {
        "id": "fMIncMDSs4VQ"
      },
      "source": [
        "In the above matrix, you can see that **User 1** and **User 2** both used **Item 1**, and **User 2**, **User 3**, and **User 4** all used **Item 2**.  However, there are also a large number of missing values in the matrix for users who haven't used a particular item.  A matrix with many missing values (like the one above) is considered **sparse**.\n",
        "\n",
        "Our first goal for this notebook is to create the above matrix with the **reviews** dataset.  However, instead of 1 values in each cell, you should have the actual rating.  \n",
        "\n",
        "The users will indicate the rows, and the movies will exist across the columns. To create the user-item matrix, we only need the first three columns of the **reviews** dataframe, which you can see by running the cell below."
      ]
    },
    {
      "cell_type": "code",
      "execution_count": null,
      "metadata": {
        "id": "7X8ly29ys4VR",
        "colab": {
          "base_uri": "https://localhost:8080/",
          "height": 206
        },
        "outputId": "5610418c-e9a7-47d4-acca-e3b47b14aaf5"
      },
      "outputs": [
        {
          "output_type": "execute_result",
          "data": {
            "text/plain": [
              "   user_id  movie_id  rating\n",
              "0        1     68646      10\n",
              "1        1    113277      10\n",
              "2        2    422720       8\n",
              "3        2    454876       8\n",
              "4        2    790636       7"
            ],
            "text/html": [
              "\n",
              "  <div id=\"df-4ebbee1b-3427-4186-bb1a-f2a8633b7b6f\">\n",
              "    <div class=\"colab-df-container\">\n",
              "      <div>\n",
              "<style scoped>\n",
              "    .dataframe tbody tr th:only-of-type {\n",
              "        vertical-align: middle;\n",
              "    }\n",
              "\n",
              "    .dataframe tbody tr th {\n",
              "        vertical-align: top;\n",
              "    }\n",
              "\n",
              "    .dataframe thead th {\n",
              "        text-align: right;\n",
              "    }\n",
              "</style>\n",
              "<table border=\"1\" class=\"dataframe\">\n",
              "  <thead>\n",
              "    <tr style=\"text-align: right;\">\n",
              "      <th></th>\n",
              "      <th>user_id</th>\n",
              "      <th>movie_id</th>\n",
              "      <th>rating</th>\n",
              "    </tr>\n",
              "  </thead>\n",
              "  <tbody>\n",
              "    <tr>\n",
              "      <th>0</th>\n",
              "      <td>1</td>\n",
              "      <td>68646</td>\n",
              "      <td>10</td>\n",
              "    </tr>\n",
              "    <tr>\n",
              "      <th>1</th>\n",
              "      <td>1</td>\n",
              "      <td>113277</td>\n",
              "      <td>10</td>\n",
              "    </tr>\n",
              "    <tr>\n",
              "      <th>2</th>\n",
              "      <td>2</td>\n",
              "      <td>422720</td>\n",
              "      <td>8</td>\n",
              "    </tr>\n",
              "    <tr>\n",
              "      <th>3</th>\n",
              "      <td>2</td>\n",
              "      <td>454876</td>\n",
              "      <td>8</td>\n",
              "    </tr>\n",
              "    <tr>\n",
              "      <th>4</th>\n",
              "      <td>2</td>\n",
              "      <td>790636</td>\n",
              "      <td>7</td>\n",
              "    </tr>\n",
              "  </tbody>\n",
              "</table>\n",
              "</div>\n",
              "      <button class=\"colab-df-convert\" onclick=\"convertToInteractive('df-4ebbee1b-3427-4186-bb1a-f2a8633b7b6f')\"\n",
              "              title=\"Convert this dataframe to an interactive table.\"\n",
              "              style=\"display:none;\">\n",
              "        \n",
              "  <svg xmlns=\"http://www.w3.org/2000/svg\" height=\"24px\"viewBox=\"0 0 24 24\"\n",
              "       width=\"24px\">\n",
              "    <path d=\"M0 0h24v24H0V0z\" fill=\"none\"/>\n",
              "    <path d=\"M18.56 5.44l.94 2.06.94-2.06 2.06-.94-2.06-.94-.94-2.06-.94 2.06-2.06.94zm-11 1L8.5 8.5l.94-2.06 2.06-.94-2.06-.94L8.5 2.5l-.94 2.06-2.06.94zm10 10l.94 2.06.94-2.06 2.06-.94-2.06-.94-.94-2.06-.94 2.06-2.06.94z\"/><path d=\"M17.41 7.96l-1.37-1.37c-.4-.4-.92-.59-1.43-.59-.52 0-1.04.2-1.43.59L10.3 9.45l-7.72 7.72c-.78.78-.78 2.05 0 2.83L4 21.41c.39.39.9.59 1.41.59.51 0 1.02-.2 1.41-.59l7.78-7.78 2.81-2.81c.8-.78.8-2.07 0-2.86zM5.41 20L4 18.59l7.72-7.72 1.47 1.35L5.41 20z\"/>\n",
              "  </svg>\n",
              "      </button>\n",
              "      \n",
              "  <style>\n",
              "    .colab-df-container {\n",
              "      display:flex;\n",
              "      flex-wrap:wrap;\n",
              "      gap: 12px;\n",
              "    }\n",
              "\n",
              "    .colab-df-convert {\n",
              "      background-color: #E8F0FE;\n",
              "      border: none;\n",
              "      border-radius: 50%;\n",
              "      cursor: pointer;\n",
              "      display: none;\n",
              "      fill: #1967D2;\n",
              "      height: 32px;\n",
              "      padding: 0 0 0 0;\n",
              "      width: 32px;\n",
              "    }\n",
              "\n",
              "    .colab-df-convert:hover {\n",
              "      background-color: #E2EBFA;\n",
              "      box-shadow: 0px 1px 2px rgba(60, 64, 67, 0.3), 0px 1px 3px 1px rgba(60, 64, 67, 0.15);\n",
              "      fill: #174EA6;\n",
              "    }\n",
              "\n",
              "    [theme=dark] .colab-df-convert {\n",
              "      background-color: #3B4455;\n",
              "      fill: #D2E3FC;\n",
              "    }\n",
              "\n",
              "    [theme=dark] .colab-df-convert:hover {\n",
              "      background-color: #434B5C;\n",
              "      box-shadow: 0px 1px 3px 1px rgba(0, 0, 0, 0.15);\n",
              "      filter: drop-shadow(0px 1px 2px rgba(0, 0, 0, 0.3));\n",
              "      fill: #FFFFFF;\n",
              "    }\n",
              "  </style>\n",
              "\n",
              "      <script>\n",
              "        const buttonEl =\n",
              "          document.querySelector('#df-4ebbee1b-3427-4186-bb1a-f2a8633b7b6f button.colab-df-convert');\n",
              "        buttonEl.style.display =\n",
              "          google.colab.kernel.accessAllowed ? 'block' : 'none';\n",
              "\n",
              "        async function convertToInteractive(key) {\n",
              "          const element = document.querySelector('#df-4ebbee1b-3427-4186-bb1a-f2a8633b7b6f');\n",
              "          const dataTable =\n",
              "            await google.colab.kernel.invokeFunction('convertToInteractive',\n",
              "                                                     [key], {});\n",
              "          if (!dataTable) return;\n",
              "\n",
              "          const docLinkHtml = 'Like what you see? Visit the ' +\n",
              "            '<a target=\"_blank\" href=https://colab.research.google.com/notebooks/data_table.ipynb>data table notebook</a>'\n",
              "            + ' to learn more about interactive tables.';\n",
              "          element.innerHTML = '';\n",
              "          dataTable['output_type'] = 'display_data';\n",
              "          await google.colab.output.renderOutput(dataTable, element);\n",
              "          const docLink = document.createElement('div');\n",
              "          docLink.innerHTML = docLinkHtml;\n",
              "          element.appendChild(docLink);\n",
              "        }\n",
              "      </script>\n",
              "    </div>\n",
              "  </div>\n",
              "  "
            ]
          },
          "metadata": {},
          "execution_count": 4
        }
      ],
      "source": [
        "user_items = reviews[['user_id', 'movie_id', 'rating']]\n",
        "user_items = user_items[:22222]\n",
        "user_items.head()"
      ]
    },
    {
      "cell_type": "markdown",
      "metadata": {
        "id": "Go_5HkJ4s4VS"
      },
      "source": [
        "### Creating the User-Item Matrix\n",
        "\n",
        "In order to create the user-items matrix (like the one above), I personally started by using a [pivot table](https://pandas.pydata.org/pandas-docs/stable/generated/pandas.pivot_table.html). \n",
        "\n",
        "However, I quickly ran into a memory error (a common theme throughout this notebook).  I will help you navigate around many of the errors I had, and achieve useful collaborative filtering results! \n",
        "\n",
        "_____\n",
        "\n",
        "`1.` Create a matrix where the users are the rows, the movies are the columns, and the ratings exist in each cell, or a NaN exists in cells where a user hasn't rated a particular movie. If you get a memory error (like I did), [this link here](https://stackoverflow.com/questions/39648991/pandas-dataframe-pivot-memory-error) might help you!"
      ]
    },
    {
      "cell_type": "code",
      "execution_count": null,
      "metadata": {
        "id": "7SYZCiv1s4VT"
      },
      "outputs": [],
      "source": [
        "# Create user-by-item matrix\n",
        "user_by_movie = user_items.groupby(['user_id', 'movie_id'])['rating'].max().unstack()"
      ]
    },
    {
      "cell_type": "markdown",
      "metadata": {
        "id": "oU21COEns4VU"
      },
      "source": [
        "Check your results below to make sure your matrix is ready for the upcoming sections."
      ]
    },
    {
      "cell_type": "code",
      "execution_count": null,
      "metadata": {
        "id": "XRO0VYjis4VV"
      },
      "outputs": [],
      "source": [
        "# assert reviews.user_id.nunique() == user_by_movie.shape[0], \"Oh no! Your matrix should have {} rows, and yours has {}!\".format(reviews.user_id.nunique(), user_by_movie.shape[0])\n",
        "# print(\"Looks like you are all set! Proceed!\")\n",
        "# HTML('<img src=\"images/greatjob.webp\">')"
      ]
    },
    {
      "cell_type": "markdown",
      "metadata": {
        "id": "ZYg6XWeTs4VW"
      },
      "source": [
        "`2.` Now that you have a matrix of users by movies, use this matrix to create a dictionary where the key is each user and the value is an array of the movies each user has rated."
      ]
    },
    {
      "cell_type": "code",
      "execution_count": null,
      "metadata": {
        "id": "JktTSYLZs4VX"
      },
      "outputs": [],
      "source": [
        "# Create a dictionary with users and corresponding movies seen\n",
        "\n",
        "def movies_watched(user_id):\n",
        "    '''\n",
        "    INPUT:\n",
        "    user_id - the user_id of an individual as int\n",
        "    OUTPUT:\n",
        "    movies - an array of movies the user has watched\n",
        "    '''\n",
        "    # Implement your code here\n",
        "    movies = user_by_movie.loc[user_id][user_by_movie.loc[user_id].isnull() == False].index.values\n",
        "\n",
        "    return movies\n",
        "\n",
        "\n",
        "def create_user_movie_dict():\n",
        "    '''\n",
        "    INPUT: None\n",
        "    OUTPUT: movies_seen - a dictionary where each key is a user_id and the value is an array of movie_ids\n",
        "    \n",
        "    Creates the movies_seen dictionary\n",
        "    '''\n",
        "    # Implement your code here\n",
        "    \n",
        "    n_users = user_by_movie.shape[0]\n",
        "    movies_seen = dict()\n",
        "\n",
        "    for user1 in range(1, n_users+1):\n",
        "        \n",
        "        # assign list of movies to each user key\n",
        "        movies_seen[user1] = movies_watched(user1)\n",
        "    \n",
        "    return movies_seen\n",
        "\n",
        "movies_seen = create_user_movie_dict()"
      ]
    },
    {
      "cell_type": "markdown",
      "metadata": {
        "id": "GQU8KNuys4VY"
      },
      "source": [
        "`3.` If a user hasn't rated more than 2 movies, we consider these users \"too new\".  Create a new dictionary that only contains users who have rated more than 2 movies.  This dictionary will be used for all the final steps of this workbook."
      ]
    },
    {
      "cell_type": "code",
      "execution_count": null,
      "metadata": {
        "id": "A7tfCXzys4VY"
      },
      "outputs": [],
      "source": [
        "# Remove individuals who have watched 2 or fewer movies - don't have enough data to make recs\n",
        "\n",
        "def create_movies_to_analyze(movies_seen, lower_bound=2):\n",
        "    '''\n",
        "    INPUT:  \n",
        "    movies_seen - a dictionary where each key is a user_id and the value is an array of movie_ids\n",
        "    lower_bound - (an int) a user must have more movies seen than the lower bound to be added to the movies_to_analyze dictionary\n",
        "\n",
        "    OUTPUT: \n",
        "    movies_to_analyze - a dictionary where each key is a user_id and the value is an array of movie_ids\n",
        "    \n",
        "    The movies_seen and movies_to_analyze dictionaries should be the same except that the output dictionary has removed \n",
        "    \n",
        "    '''\n",
        "    # Implement your code here\n",
        "    \n",
        "    movies_to_analyze = dict()\n",
        "\n",
        "    for user, movies in movies_seen.items():\n",
        "        if len(movies) > lower_bound:\n",
        "            movies_to_analyze[user] = movies\n",
        "    return movies_to_analyze\n",
        "\n",
        "movies_to_analyze = create_movies_to_analyze(movies_seen)"
      ]
    },
    {
      "cell_type": "code",
      "execution_count": null,
      "metadata": {
        "id": "88zajZyss4VZ"
      },
      "outputs": [],
      "source": [
        "# Run the tests below to check that your movies_to_analyze matches the solution\n",
        "# assert len(movies_to_analyze) == 3494, \"Oops!  It doesn't look like your dictionary has the right number of individuals.\"\n",
        "# assert len(movies_to_analyze[2]) == 10, \"Oops!  User 2 didn't match the number of movies we thought they would have.\"\n",
        "# assert len(movies_to_analyze[7])  == 10, \"Oops!  User 7 didn't match the number of movies we thought they would have.\"\n",
        "# print(\"If this is all you see, you are good to go!\")"
      ]
    },
    {
      "cell_type": "markdown",
      "metadata": {
        "id": "_1wrDakas4Va"
      },
      "source": [
        "### Calculating User Similarities\n",
        "\n",
        "Now that you have set up the **movies_to_analyze** dictionary, it is time to take a closer look at the similarities between users. Below is the pseudocode for how I thought about determining the similarity between users:\n",
        "\n",
        "```\n",
        "for user1 in movies_to_analyze\n",
        "    for user2 in movies_to_analyze\n",
        "        see how many movies match between the two users\n",
        "        if more than two movies in common\n",
        "            pull the overlapping movies\n",
        "            compute the distance/similarity metric between ratings on the same movies for the two users\n",
        "            store the users and the distance metric\n",
        "```\n",
        "\n",
        "However, this took a very long time to run, and other methods of performing these operations did not fit on the workspace memory!\n",
        "\n",
        "Therefore, rather than creating a dataframe with all possible pairings of users in our data, your task for this question is to look at a few specific examples of the correlation between ratings given by two users.  For this question consider you want to compute the [correlation](https://pandas.pydata.org/pandas-docs/stable/generated/pandas.DataFrame.corr.html) between users.\n",
        "\n",
        "`4.` Using the **movies_to_analyze** dictionary and **user_by_movie** dataframe, create a function that computes the correlation between the ratings of similar movies for two users.  Then use your function to compare your results to ours using the tests below.  "
      ]
    },
    {
      "cell_type": "code",
      "execution_count": null,
      "metadata": {
        "id": "hYNS3edws4Va"
      },
      "outputs": [],
      "source": [
        "def compute_correlation(user1, user2):\n",
        "    '''\n",
        "    INPUT\n",
        "    user1 - int user_id\n",
        "    user2 - int user_id\n",
        "    OUTPUT\n",
        "    the correlation between the matching ratings between the two users\n",
        "    '''\n",
        "    # Implement your code here\n",
        "    # Pull movies for each user\n",
        "    movies1 = movies_to_analyze[user1]\n",
        "    movies2 = movies_to_analyze[user2]\n",
        "    \n",
        "    \n",
        "    # Find Similar Movies\n",
        "    sim_movs = np.intersect1d(movies1, movies2, assume_unique=True)\n",
        "    \n",
        "    # Calculate correlation between the users\n",
        "    df = user_by_movie.loc[(user1, user2), sim_movs]\n",
        "    corr = df.transpose().corr().iloc[0,1]\n",
        "    \n",
        "    return corr #return the correlation"
      ]
    },
    {
      "cell_type": "code",
      "execution_count": null,
      "metadata": {
        "id": "3tZJp55_s4Vb"
      },
      "outputs": [],
      "source": [
        "# # Test your function against the solution\n",
        "# assert compute_correlation(2,2) == 1.0, \"Oops!  The correlation between a user and itself should be 1.0.\"\n",
        "# assert round(compute_correlation(35,51), 2) == 0.84, \"Oops!  The correlation between user 25 and 51 should be about 0.84.\"\n",
        "# assert np.isnan(compute_correlation(7,8022)), \"Oops!  The correlation between user 7 and 8022 should be a NaN.\"\n",
        "\n",
        "# print(\"If this is all you see, then it looks like your function passed all of our tests!\")"
      ]
    },
    {
      "cell_type": "markdown",
      "metadata": {
        "id": "gkNp1_zHs4Vc"
      },
      "source": [
        "### Why the NaN's?\n",
        "\n",
        "If the function you wrote passed all of the tests, then you have correctly set up your function to calculate the correlation between any two users.  \n",
        "\n",
        "`5.` But one question is, why are we still obtaining **NaN** values?  As you can see in the code cell above, users 7 and 8022 have a correlation of **NaN**. Why?"
      ]
    },
    {
      "cell_type": "markdown",
      "metadata": {
        "id": "qjoJA1CBs4Vc"
      },
      "source": [
        "Think and write your ideas here about why these NaNs exist, and use the cells below to do some coding to validate your thoughts. You can check other pairs of users and see that there are actually many NaNs in our data. These NaN's ultimately make the correlation coefficient a less than optimal measure of similarity between two users.\n",
        "\n",
        "```\n",
        "In the denominator of the correlation coefficient, we calculate the standard deviation for each user's ratings.  The ratings for two users share the same ratings on the matching movies.  Therefore, the standard deviation is 0.  Because a 0 is in the denominator of the correlation coefficient, we end up with a **NaN** correlation coefficient.  Therefore, a different approach is likely better for this particular situation.\n",
        "```"
      ]
    },
    {
      "cell_type": "code",
      "execution_count": null,
      "metadata": {
        "id": "4jimmsiKs4Vd",
        "colab": {
          "base_uri": "https://localhost:8080/"
        },
        "outputId": "4e568ba5-272a-464e-bf38-02734e2fbc9d"
      },
      "outputs": [
        {
          "output_type": "execute_result",
          "data": {
            "text/plain": [
              "{454876, 816711, 1454468, 1535109}"
            ]
          },
          "metadata": {},
          "execution_count": 14
        }
      ],
      "source": [
        "# Which movies did both user 2 and user 104 see?\n",
        "set_2 = set(movies_to_analyze[2])\n",
        "set_104 = set(movies_to_analyze[104])\n",
        "set_2.intersection(set_104)"
      ]
    },
    {
      "cell_type": "code",
      "execution_count": null,
      "metadata": {
        "id": "Yq0Tfjnns4Vd",
        "colab": {
          "base_uri": "https://localhost:8080/"
        },
        "outputId": "9011d8ef-c6a7-4952-e6c4-4bb1ff807d79"
      },
      "outputs": [
        {
          "output_type": "stream",
          "name": "stdout",
          "text": [
            "movie_id\n",
            "454876     8.0\n",
            "1454468    8.0\n",
            "1535109    8.0\n",
            "816711     8.0\n",
            "Name: 2, dtype: float64\n",
            "movie_id\n",
            "454876     9.0\n",
            "1454468    7.0\n",
            "1535109    9.0\n",
            "816711     7.0\n",
            "Name: 104, dtype: float64\n"
          ]
        }
      ],
      "source": [
        "# What were the ratings for each user on those movies?\n",
        "print(user_by_movie.loc[2, set_2.intersection(set_104)])\n",
        "print(user_by_movie.loc[104, set_2.intersection(set_104)])"
      ]
    },
    {
      "cell_type": "markdown",
      "metadata": {
        "id": "pCw3FiKns4Ve"
      },
      "source": [
        "`6.` Because the correlation coefficient proved to be less than optimal for relating user ratings to one another, we could instead calculate the euclidean distance between the ratings.  I found [this post](https://stackoverflow.com/questions/1401712/how-can-the-euclidean-distance-be-calculated-with-numpy) particularly helpful when I was setting up my function.  This function should be very similar to your previous function.  When you feel confident with your function, test it against our results."
      ]
    },
    {
      "cell_type": "code",
      "execution_count": null,
      "metadata": {
        "id": "3aD1PeZPs4Ve"
      },
      "outputs": [],
      "source": [
        "def compute_euclidean_dist(user1, user2):\n",
        "    '''\n",
        "    INPUT\n",
        "    user1 - int user_id\n",
        "    user2 - int user_id\n",
        "    OUTPUT\n",
        "    the euclidean distance between user1 and user2\n",
        "    '''\n",
        "    # Pull movies for each user\n",
        "    movies1 = movies_to_analyze[user1]\n",
        "    movies2 = movies_to_analyze[user2]\n",
        "    \n",
        "    \n",
        "    # Find Similar Movies\n",
        "    sim_movs = np.intersect1d(movies1, movies2, assume_unique=True)\n",
        "    \n",
        "    # Calculate euclidean distance between the users\n",
        "    df = user_by_movie.loc[(user1, user2), sim_movs]\n",
        "    dist = np.linalg.norm(df.loc[user1] - df.loc[user2])\n",
        "    \n",
        "    return dist #return the euclidean distance"
      ]
    },
    {
      "cell_type": "code",
      "execution_count": null,
      "metadata": {
        "id": "843HbwnEs4Vf"
      },
      "outputs": [],
      "source": [
        "# # Test your function against the solution\n",
        "# assert compute_euclidean_dist(2,2) == 0.0, \"Oops!  The distance between a user and itself should be 0.0.\"\n",
        "# assert round(compute_euclidean_dist(35,51), 2) == 3.32, \"Oops!  The distance between user 2 and 66 should be about 2.24.\"\n",
        "\n",
        "# print(\"If this is all you see, then it looks like your function passed all of our tests!\")"
      ]
    },
    {
      "cell_type": "code",
      "execution_count": null,
      "metadata": {
        "id": "j7LAUqsps4Vf"
      },
      "outputs": [],
      "source": [
        "# Don't change the code here\n",
        "# This loads our solution dataframe with every possible user pairings\n",
        "df_dists = pd.read_csv('/content/drive/My Drive/Recommendation System/df_dists.csv')\n",
        "del df_dists['Unnamed: 0']\n",
        "df_dists.dropna(inplace=True)"
      ]
    },
    {
      "cell_type": "markdown",
      "metadata": {
        "id": "kjs66kL8s4Vg"
      },
      "source": [
        "### Using the Nearest Neighbors to Make Recommendations\n",
        "\n",
        "In the previous question, you read in **df_dists**. Therefore, you have a measure of distance between each user and every other user. This dataframe holds every possible pairing of users, as well as the corresponding euclidean distance.\n",
        "\n",
        "Because of the **NaN** values that exist within the correlations of the matching ratings for many pairs of users, as we discussed above, we will proceed using **df_dists**. You will want to find the users that are 'nearest' each user.  Then you will want to find the movies the closest neighbors have liked to recommend to each user.\n",
        "\n",
        "I made use of the following objects:\n",
        "\n",
        "* df_dists (to obtain the neighbors)\n",
        "* user_items (to obtain the movies the neighbors and users have rated)\n",
        "* movies (to obtain the names of the movies)\n",
        "\n",
        "`7.` Complete the functions below, which allow you to find the recommendations for any user.  There are five functions which you will need:\n",
        "\n",
        "* **find_closest_neighbors** - this returns a list of user_ids from closest neighbor to farthest neighbor using euclidean distance\n",
        "\n",
        "\n",
        "* **movies_liked** - returns an array of movie_ids\n",
        "\n",
        "\n",
        "* **movie_names** - takes the output of movies_liked and returns a list of movie names associated with the movie_ids\n",
        "\n",
        "\n",
        "* **make_recommendations** - takes a user id and goes through closest neighbors to return a list of movie names as recommendations\n",
        "\n",
        "\n",
        "* **all_recommendations** = loops through every user and returns a dictionary of with the key as a user_id and the value as a list of movie recommendations"
      ]
    },
    {
      "cell_type": "code",
      "execution_count": null,
      "metadata": {
        "id": "H7jjJ7Dps4Vg"
      },
      "outputs": [],
      "source": [
        "def find_closest_neighbors(user):\n",
        "    '''\n",
        "    INPUT:\n",
        "        user - (int) the user_id of the individual you want to find the closest users\n",
        "    OUTPUT:\n",
        "        closest_neighbors - an array of the id's of the users sorted from closest to farthest away\n",
        "    '''\n",
        "    # Implement your code here\n",
        "    closest_users = df_dists[df_dists['user1']==user].sort_values(by='eucl_dist').reset_index(drop=True).iloc[1:,1]\n",
        "    closest_neighbors = np.array(closest_users)\n",
        "\n",
        "    return closest_neighbors\n",
        "    \n",
        "    \n",
        "    \n",
        "def movies_liked(user_id, min_rating=7):\n",
        "    '''\n",
        "    INPUT:\n",
        "    user_id - the user_id of an individual as int\n",
        "    min_rating - the minimum rating considered while still a movie is still a \"like\" and not a \"dislike\"\n",
        "    OUTPUT:\n",
        "    movies_liked - an array of movies the user has watched and liked\n",
        "    '''\n",
        "    # Implement your code here\n",
        "    movies_liked = user_items[(user_items['user_id']==user_id) & (user_items['rating']>= min_rating)]['movie_id'].values\n",
        "    return movies_liked\n",
        "\n",
        "\n",
        "def movie_names(movie_ids):\n",
        "    '''\n",
        "    INPUT\n",
        "    movie_ids - a list of movie_ids\n",
        "    OUTPUT\n",
        "    movies - a list of movie names associated with the movie_ids    \n",
        "    '''\n",
        "    # Implement your code here\n",
        "    movie_lst = list(movies[movies['movie_id'].isin(movie_ids)]['movie'])\n",
        "    return movie_lst\n",
        "    \n",
        "    \n",
        "def make_recommendations(user, num_recs=10):\n",
        "    '''\n",
        "    INPUT:\n",
        "        user - (int) a user_id of the individual you want to make recommendations for\n",
        "        num_recs - (int) number of movies to return\n",
        "    OUTPUT:\n",
        "        recommendations - a list of movies - if there are \"num_recs\" recommendations return this many\n",
        "                          otherwise return the total number of recommendations available for the \"user\"\n",
        "                          which may just be an empty list\n",
        "    '''\n",
        "    # Implement your code here\n",
        "    recommendations= []\n",
        "    closest_neighbors = find_closest_neighbors(user)\n",
        "    \n",
        "    \n",
        "    # Go through the neighbors and identify movies they like the user hasn't seen\n",
        "    for neighbor in closest_neighbors:\n",
        "        neighbs_likes = movies_liked(neighbor)\n",
        "        movies_lst = movie_names(neighbs_likes)        \n",
        "        recommendations.extend(movies_lst)\n",
        "        \n",
        "        # If we have enough recommendations exit the loop\n",
        "        if len(recommendations) >= num_recs:\n",
        "          recommendations = recommendations[0:num_recs]\n",
        "          break\n",
        "    \n",
        "    return recommendations\n",
        "\n",
        "def all_recommendations(num_recs=10):\n",
        "    '''\n",
        "    INPUT \n",
        "        num_recs (int) the (max) number of recommendations for each user\n",
        "    OUTPUT\n",
        "        all_recs - a dictionary where each key is a user_id and the value is an array of recommended movie titles\n",
        "    '''\n",
        "    # Implement your code here\n",
        "    # All the users we need to make recommendations for\n",
        "    users = np.unique(df_dists['user1'])\n",
        "    n_users = len(users)\n",
        "    \n",
        "    #Store all recommendations in this dictionary\n",
        "    all_recs = dict()\n",
        "    \n",
        "    # Make the recommendations for each user\n",
        "    for user in users:\n",
        "        all_recs[user] = make_recommendations(user, num_recs)\n",
        "    return all_recs\n",
        "\n",
        "all_recs = all_recommendations(10)"
      ]
    },
    {
      "cell_type": "code",
      "source": [
        "all_recs_sol = pd.read_pickle(\"/content/drive/My Drive/Recommendation System/all_recs.p\")"
      ],
      "metadata": {
        "id": "8zetKkliXZSD"
      },
      "execution_count": null,
      "outputs": []
    },
    {
      "cell_type": "code",
      "execution_count": null,
      "metadata": {
        "id": "j3FJgoohs4Vh",
        "colab": {
          "resources": {
            "http://localhost:8080/images/greatjob.webp": {
              "data": "CjwhRE9DVFlQRSBodG1sPgo8aHRtbCBsYW5nPWVuPgogIDxtZXRhIGNoYXJzZXQ9dXRmLTg+CiAgPG1ldGEgbmFtZT12aWV3cG9ydCBjb250ZW50PSJpbml0aWFsLXNjYWxlPTEsIG1pbmltdW0tc2NhbGU9MSwgd2lkdGg9ZGV2aWNlLXdpZHRoIj4KICA8dGl0bGU+RXJyb3IgNDA0IChOb3QgRm91bmQpISExPC90aXRsZT4KICA8c3R5bGU+CiAgICAqe21hcmdpbjowO3BhZGRpbmc6MH1odG1sLGNvZGV7Zm9udDoxNXB4LzIycHggYXJpYWwsc2Fucy1zZXJpZn1odG1se2JhY2tncm91bmQ6I2ZmZjtjb2xvcjojMjIyO3BhZGRpbmc6MTVweH1ib2R5e21hcmdpbjo3JSBhdXRvIDA7bWF4LXdpZHRoOjM5MHB4O21pbi1oZWlnaHQ6MTgwcHg7cGFkZGluZzozMHB4IDAgMTVweH0qID4gYm9keXtiYWNrZ3JvdW5kOnVybCgvL3d3dy5nb29nbGUuY29tL2ltYWdlcy9lcnJvcnMvcm9ib3QucG5nKSAxMDAlIDVweCBuby1yZXBlYXQ7cGFkZGluZy1yaWdodDoyMDVweH1we21hcmdpbjoxMXB4IDAgMjJweDtvdmVyZmxvdzpoaWRkZW59aW5ze2NvbG9yOiM3Nzc7dGV4dC1kZWNvcmF0aW9uOm5vbmV9YSBpbWd7Ym9yZGVyOjB9QG1lZGlhIHNjcmVlbiBhbmQgKG1heC13aWR0aDo3NzJweCl7Ym9keXtiYWNrZ3JvdW5kOm5vbmU7bWFyZ2luLXRvcDowO21heC13aWR0aDpub25lO3BhZGRpbmctcmlnaHQ6MH19I2xvZ297YmFja2dyb3VuZDp1cmwoLy93d3cuZ29vZ2xlLmNvbS9pbWFnZXMvbG9nb3MvZXJyb3JwYWdlL2Vycm9yX2xvZ28tMTUweDU0LnBuZykgbm8tcmVwZWF0O21hcmdpbi1sZWZ0Oi01cHh9QG1lZGlhIG9ubHkgc2NyZWVuIGFuZCAobWluLXJlc29sdXRpb246MTkyZHBpKXsjbG9nb3tiYWNrZ3JvdW5kOnVybCgvL3d3dy5nb29nbGUuY29tL2ltYWdlcy9sb2dvcy9lcnJvcnBhZ2UvZXJyb3JfbG9nby0xNTB4NTQtMngucG5nKSBuby1yZXBlYXQgMCUgMCUvMTAwJSAxMDAlOy1tb3otYm9yZGVyLWltYWdlOnVybCgvL3d3dy5nb29nbGUuY29tL2ltYWdlcy9sb2dvcy9lcnJvcnBhZ2UvZXJyb3JfbG9nby0xNTB4NTQtMngucG5nKSAwfX1AbWVkaWEgb25seSBzY3JlZW4gYW5kICgtd2Via2l0LW1pbi1kZXZpY2UtcGl4ZWwtcmF0aW86Mil7I2xvZ297YmFja2dyb3VuZDp1cmwoLy93d3cuZ29vZ2xlLmNvbS9pbWFnZXMvbG9nb3MvZXJyb3JwYWdlL2Vycm9yX2xvZ28tMTUweDU0LTJ4LnBuZykgbm8tcmVwZWF0Oy13ZWJraXQtYmFja2dyb3VuZC1zaXplOjEwMCUgMTAwJX19I2xvZ297ZGlzcGxheTppbmxpbmUtYmxvY2s7aGVpZ2h0OjU0cHg7d2lkdGg6MTUwcHh9CiAgPC9zdHlsZT4KICA8YSBocmVmPS8vd3d3Lmdvb2dsZS5jb20vPjxzcGFuIGlkPWxvZ28gYXJpYS1sYWJlbD1Hb29nbGU+PC9zcGFuPjwvYT4KICA8cD48Yj40MDQuPC9iPiA8aW5zPlRoYXTigJlzIGFuIGVycm9yLjwvaW5zPgogIDxwPiAgPGlucz5UaGF04oCZcyBhbGwgd2Uga25vdy48L2lucz4K",
              "ok": false,
              "headers": [
                [
                  "content-length",
                  "1449"
                ],
                [
                  "content-type",
                  "text/html; charset=utf-8"
                ]
              ],
              "status": 404,
              "status_text": ""
            }
          },
          "base_uri": "https://localhost:8080/",
          "height": 55
        },
        "outputId": "9c267971-807f-4f5f-b3e2-72ec8b2edf65"
      },
      "outputs": [
        {
          "output_type": "stream",
          "name": "stdout",
          "text": [
            "If you made it here, you now have recommendations for many users using collaborative filtering!\n"
          ]
        },
        {
          "output_type": "execute_result",
          "data": {
            "text/plain": [
              "<IPython.core.display.HTML object>"
            ],
            "text/html": [
              "<img src=\"images/greatjob.webp\">"
            ]
          },
          "metadata": {},
          "execution_count": 29
        }
      ],
      "source": [
        "assert all_recs[2] == make_recommendations(2), \"Oops!  Your recommendations for user 2 didn't match ours.\"\n",
        "assert all_recs[26] == make_recommendations(26), \"Oops!  It actually wasn't possible to make any recommendations for user 39.\"\n",
        "assert all_recs[1503] == make_recommendations(1503), \"Oops! Looks like your solution for user 1677 didn't match ours.\"\n",
        "print(\"If you made it here, you now have recommendations for many users using collaborative filtering!\")\n",
        "HTML('<img src=\"images/greatjob.webp\">')"
      ]
    },
    {
      "cell_type": "code",
      "source": [
        "assert compute_correlation(2,2) == 1.0, \"Oops!  The correlation between a user and itself should be 1.0.\"\n",
        "\n",
        "assert round(compute_correlation(2,66), 2) == 0.76, \"Oops!  The correlation between user 2 and 66 should be about 0.76.\"\n",
        "\n",
        "assert np.isnan(compute_correlation(2,104)), \"Oops!  The correlation between user 2 and 104 should be a NaN.\"\n",
        "\n",
        "\n",
        "print(\"If this is all you see, then it looks like your function passed all of our tests!\")"
      ],
      "metadata": {
        "colab": {
          "base_uri": "https://localhost:8080/"
        },
        "id": "q2r3IPvisgwK",
        "outputId": "4188ed3b-3733-4a71-d01e-c2a3cd54c06c"
      },
      "execution_count": null,
      "outputs": [
        {
          "output_type": "stream",
          "name": "stdout",
          "text": [
            "If this is all you see, then it looks like your function passed all of our tests!\n"
          ]
        }
      ]
    },
    {
      "cell_type": "markdown",
      "metadata": {
        "id": "6PigZ3Wfs4Vh"
      },
      "source": [
        "### Now What?\n",
        "\n",
        "If you made it this far, you have successfully implemented a solution to making recommendations using collaborative filtering. \n",
        "\n",
        "`8.` Let's do a quick recap of the steps taken to obtain recommendations using collaborative filtering.  "
      ]
    },
    {
      "cell_type": "code",
      "execution_count": null,
      "metadata": {
        "id": "B4H8YItAs4Vh"
      },
      "outputs": [],
      "source": [
        "# Check your understanding of the results by correctly filling in the dictionary below\n",
        "a = \"pearson's correlation and spearman's correlation\"\n",
        "b = 'item based collaborative filtering'\n",
        "c = \"there were too many ratings to get a stable metric\"\n",
        "d = 'user based collaborative filtering'\n",
        "e = \"euclidean distance and pearson's correlation coefficient\"\n",
        "f = \"manhattan distance and euclidean distance\"\n",
        "g = \"spearman's correlation and euclidean distance\"\n",
        "h = \"the spread in some ratings was zero\"\n",
        "i = 'content based recommendation'\n",
        "\n",
        "sol_dict = {\n",
        "    'The type of recommendation system implemented here was a ...': # enter a letter,\n",
        "    'The two methods used to estimate user similarity were: ': # enter a letter,\n",
        "    'There was an issue with using the correlation coefficient.  What was it?': # enter a letter\n",
        "}\n",
        "\n",
        "t.test_recs(sol_dict)"
      ]
    },
    {
      "cell_type": "code",
      "execution_count": null,
      "metadata": {
        "id": "Zfu2-QLns4Vi"
      },
      "outputs": [],
      "source": [
        "# Use the cells below for any work you need to do!"
      ]
    },
    {
      "cell_type": "code",
      "execution_count": null,
      "metadata": {
        "id": "OqZVVWCZs4Vi"
      },
      "outputs": [],
      "source": [
        "# Users without recs\n"
      ]
    },
    {
      "cell_type": "code",
      "execution_count": null,
      "metadata": {
        "id": "tTU7ypqNs4Vi"
      },
      "outputs": [],
      "source": [
        "# NaN euclidean distance values\n"
      ]
    },
    {
      "cell_type": "code",
      "execution_count": null,
      "metadata": {
        "id": "J_gi8quDs4Vj"
      },
      "outputs": [],
      "source": [
        "# Users with fewer than 10 recs\n"
      ]
    },
    {
      "cell_type": "code",
      "execution_count": null,
      "metadata": {
        "id": "EgCL1LbSs4Vj"
      },
      "outputs": [],
      "source": [
        ""
      ]
    }
  ],
  "metadata": {
    "kernelspec": {
      "display_name": "Python 3",
      "language": "python",
      "name": "python3"
    },
    "language_info": {
      "codemirror_mode": {
        "name": "ipython",
        "version": 3
      },
      "file_extension": ".py",
      "mimetype": "text/x-python",
      "name": "python",
      "nbconvert_exporter": "python",
      "pygments_lexer": "ipython3",
      "version": "3.6.3"
    },
    "toc": {
      "base_numbering": 1,
      "nav_menu": {},
      "number_sections": true,
      "sideBar": true,
      "skip_h1_title": false,
      "title_cell": "Table of Contents",
      "title_sidebar": "Contents",
      "toc_cell": false,
      "toc_position": {},
      "toc_section_display": true,
      "toc_window_display": false
    },
    "colab": {
      "name": "Amira_Adel_Collaborative_Filtering.ipynb",
      "provenance": []
    },
    "gpuClass": "standard"
  },
  "nbformat": 4,
  "nbformat_minor": 0
}